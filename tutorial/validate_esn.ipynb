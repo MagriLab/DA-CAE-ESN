{
 "cells": [
  {
   "cell_type": "markdown",
   "metadata": {},
   "source": [
    "# Echo State Network\n",
    "Here, we validate the hyperparameters of the ESN. Note that the ESN is only trained on the encoded latent space representation. "
   ]
  },
  {
   "cell_type": "code",
   "execution_count": 2,
   "metadata": {},
   "outputs": [],
   "source": [
    "import matplotlib as mpl\n",
    "import pickle\n",
    "import json\n",
    "from pathlib import Path\n",
    "import torch\n",
    "import sys\n",
    "import matplotlib.pyplot as plt\n",
    "import numpy as np\n",
    "import warnings\n",
    "warnings.filterwarnings(\"ignore\", category=DeprecationWarning)\n",
    "device = torch.device(\"cpu\")\n",
    "mpl.rc('text', usetex=True)\n",
    "mpl.rc('font', family='serif')\n",
    "\n",
    "sys.path.append('../')\n",
    "from src.neuralnetwork.autoencoder import CAE\n",
    "from src.neuralnetwork.preprocessing import generate_esn_noise_data, train_valid_test_split\n",
    "\n",
    "sys.path.insert(0, '../../EchoStateNetwork/') # you need to get the git repo https://github.com/MagriLab/EchoStateNetwork\n",
    "from esn.esn import ESN\n",
    "from esn.validation import validate\n",
    "from esn.utils import errors, scalers"
   ]
  },
  {
   "cell_type": "markdown",
   "metadata": {},
   "source": [
    "#### 1: Load the trained CAE and the encoded time series"
   ]
  },
  {
   "cell_type": "code",
   "execution_count": 29,
   "metadata": {},
   "outputs": [
    {
     "name": "stdout",
     "output_type": "stream",
     "text": [
      "{'upsample': 4, 'L': 22, 'N_data': 400000, 'N_trans': 1000, 'dt': 0.05, 'Nx': 512, 'train_ratio': 0.8, 'valid_ratio': 0.1, 'batchsize': 128, 'normtype': 'max', 'lyap': 0.04}\n",
      "Encoded timeseries (399801, 8)\n"
     ]
    }
   ],
   "source": [
    "model_path = Path('../weights/fluent-sweep-2/')\n",
    "with open(model_path/'ks.json') as f:\n",
    "    ks_data = json.load(f)\n",
    "print(ks_data)\n",
    "# Define some parameters for the data\n",
    "# Define some parameters for the data\n",
    "N_lyap = int(1/0.08/0.05)\n",
    "\n",
    "N_lyap = int(1/ks_data[\"lyap\"]/ks_data[\"dt\"])\n",
    "with open(model_path /'encoded_ks.npy', 'rb') as f:\n",
    "    U_encoded = np.load(f)\n",
    "print(f\"Encoded timeseries {U_encoded.shape}\")"
   ]
  },
  {
   "cell_type": "markdown",
   "metadata": {},
   "source": [
    "#### 2: Prepare the encoded data for the ESN training"
   ]
  },
  {
   "cell_type": "code",
   "execution_count": 30,
   "metadata": {},
   "outputs": [],
   "source": [
    "U_esn = generate_esn_noise_data(U_encoded, 1, sigma_n=1e-3)\n",
    "u_encoded_train, u_encoded_valid, u_encoded_test = train_valid_test_split(U_esn, ks_data)"
   ]
  },
  {
   "cell_type": "code",
   "execution_count": 31,
   "metadata": {},
   "outputs": [
    {
     "name": "stdout",
     "output_type": "stream",
     "text": [
      "Training data shape: ((99999, 8), (99999, 8))\n",
      "U_val shape: ((20000, 8), (20000, 8))\n",
      "U_test shape: (39601, 8)\n"
     ]
    }
   ],
   "source": [
    "total_samples, dim = u_encoded_train.shape\n",
    "N_washout = 200\n",
    "train_size = min(len(u_encoded_train)-N_washout-101, 100000)#-1001\n",
    "val_size = min(len(u_encoded_valid)-101-N_washout, 20001)\n",
    "test_N_washout = 100\n",
    "# Split the data into different datasets\n",
    "U_washout = u_encoded_train[:N_washout, ...]\n",
    "U_train_input = u_encoded_train[N_washout:N_washout+train_size-1, ...]\n",
    "U_train_label = u_encoded_train[N_washout + 1:N_washout+train_size, ...]\n",
    "U_val_input = u_encoded_valid[:val_size-1, ...]\n",
    "U_val_label = u_encoded_valid[1:val_size, ...]\n",
    "U_test_washout = u_encoded_test[:test_N_washout, ...]\n",
    "U_test = u_encoded_test[N_washout:, ...]\n",
    "# Print shapes of datasets\n",
    "print(f\"Training data shape: {U_train_input.shape, U_train_label.shape}\")\n",
    "print(f\"U_val shape: {U_val_input.shape, U_val_label.shape}\")\n",
    "print(f\"U_test shape: {U_test.shape}\")"
   ]
  },
  {
   "cell_type": "markdown",
   "metadata": {},
   "source": [
    "#### 3: Validate the hyperparameters of the ESN"
   ]
  },
  {
   "cell_type": "code",
   "execution_count": 32,
   "metadata": {},
   "outputs": [
    {
     "name": "stdout",
     "output_type": "stream",
     "text": [
      "Input to run_gp:([Real(low=0.1, high=1.0, prior='uniform', transform='identity'), Real(low=-2.0, high=1.0, prior='uniform', transform='identity'), Integer(low=-12.0, high=-3.0, prior='uniform', transform='identity')], 20, 10, 10)\n",
      "--NEW RUN-- 1\n",
      "Realisation: 0\n",
      "spectral_radius 0.6335601564025166\n",
      "input_scaling 3.41033659841376\n",
      "tikhonov 9.999999999999999e-05\n",
      "\n",
      "\n",
      "Val regime: 0\n",
      "Fold: 0 , fold error:  1.1551303594277162\n",
      "Fold: 1 , fold error:  1.2740312260315148\n",
      "Fold: 2 , fold error:  0.6869041581626624\n",
      "Fold: 3 , fold error:  1.2123903337377213\n",
      "Fold: 4 , fold error:  0.8978180163975477\n",
      "Val regime error: 1.0452548187514323\n",
      "Realisation error: 1.0452548187514323\n",
      "\n",
      "\n",
      "Run 1 error: 1.0452548187514323\n",
      "\n",
      "\n",
      "--NEW RUN-- 2\n",
      "Realisation: 0\n",
      "spectral_radius 0.8625265649057131\n",
      "input_scaling 0.7424908231815013\n",
      "tikhonov 9.999999999999999e-10\n",
      "\n",
      "\n"
     ]
    },
    {
     "name": "stderr",
     "output_type": "stream",
     "text": [
      "/home/eo821/miniconda3/envs/cae-esn-tf/lib/python3.9/site-packages/sklearn/linear_model/_ridge.py:216: LinAlgWarning: Ill-conditioned matrix (rcond=2.19777e-17): result may not be accurate.\n",
      "  return linalg.solve(A, Xy, assume_a=\"pos\", overwrite_a=True).T\n"
     ]
    },
    {
     "name": "stdout",
     "output_type": "stream",
     "text": [
      "Val regime: 0\n",
      "Fold: 0 , fold error:  0.9707252693458259\n",
      "Fold: 1 , fold error:  0.9464333196621147\n",
      "Fold: 2 , fold error:  0.8022824042212543\n",
      "Fold: 3 , fold error:  1.0279580612091528\n",
      "Fold: 4 , fold error:  0.9970401056854524\n",
      "Val regime error: 0.94888783202476\n",
      "Realisation error: 0.94888783202476\n",
      "\n",
      "\n",
      "Run 2 error: 0.94888783202476\n",
      "\n",
      "\n",
      "--NEW RUN-- 3\n",
      "Realisation: 0\n",
      "spectral_radius 0.3677811458900251\n",
      "input_scaling 0.014795816345422881\n",
      "tikhonov 9.999999999999999e-11\n",
      "\n",
      "\n"
     ]
    },
    {
     "name": "stderr",
     "output_type": "stream",
     "text": [
      "/home/eo821/miniconda3/envs/cae-esn-tf/lib/python3.9/site-packages/sklearn/linear_model/_ridge.py:216: LinAlgWarning: Ill-conditioned matrix (rcond=1.36658e-17): result may not be accurate.\n",
      "  return linalg.solve(A, Xy, assume_a=\"pos\", overwrite_a=True).T\n"
     ]
    },
    {
     "name": "stdout",
     "output_type": "stream",
     "text": [
      "Val regime: 0\n",
      "Fold: 0 , fold error:  1.0810390006238277\n",
      "Fold: 1 , fold error:  0.9460765560652672\n",
      "Fold: 2 , fold error:  0.9996263897171324\n",
      "Fold: 3 , fold error:  31183.985026781407\n",
      "Fold: 4 , fold error:  1.0455471773525782\n",
      "Val regime error: 6237.611463181033\n",
      "Realisation error: 6237.611463181033\n",
      "\n",
      "\n",
      "Run 3 error: 6237.611463181033\n",
      "\n",
      "\n",
      "--NEW RUN-- 4\n",
      "Realisation: 0\n",
      "spectral_radius 0.529898605589215\n",
      "input_scaling 2.732160361977424\n",
      "tikhonov 1e-08\n",
      "\n",
      "\n"
     ]
    },
    {
     "name": "stderr",
     "output_type": "stream",
     "text": [
      "/home/eo821/miniconda3/envs/cae-esn-tf/lib/python3.9/site-packages/sklearn/linear_model/_ridge.py:216: LinAlgWarning: Ill-conditioned matrix (rcond=4.78343e-17): result may not be accurate.\n",
      "  return linalg.solve(A, Xy, assume_a=\"pos\", overwrite_a=True).T\n"
     ]
    },
    {
     "name": "stdout",
     "output_type": "stream",
     "text": [
      "Val regime: 0\n",
      "Fold: 0 , fold error:  1.1042949465737986\n",
      "Fold: 1 , fold error:  1.0383989083114258\n",
      "Fold: 2 , fold error:  1.0492037928374005\n",
      "Fold: 3 , fold error:  1.1257894973583082\n",
      "Fold: 4 , fold error:  1.1213952889652186\n",
      "Val regime error: 1.0878164868092304\n",
      "Realisation error: 1.0878164868092304\n",
      "\n",
      "\n",
      "Run 4 error: 1.0878164868092304\n",
      "\n",
      "\n",
      "--NEW RUN-- 5\n",
      "Realisation: 0\n",
      "spectral_radius 0.4535063164907469\n",
      "input_scaling 3.2228217847874103\n",
      "tikhonov 9.999999999999999e-10\n",
      "\n",
      "\n"
     ]
    },
    {
     "name": "stderr",
     "output_type": "stream",
     "text": [
      "/home/eo821/miniconda3/envs/cae-esn-tf/lib/python3.9/site-packages/sklearn/linear_model/_ridge.py:216: LinAlgWarning: Ill-conditioned matrix (rcond=3.36296e-18): result may not be accurate.\n",
      "  return linalg.solve(A, Xy, assume_a=\"pos\", overwrite_a=True).T\n"
     ]
    },
    {
     "name": "stdout",
     "output_type": "stream",
     "text": [
      "Val regime: 0\n",
      "Fold: 0 , fold error:  1.143215361289479\n",
      "Fold: 1 , fold error:  0.9111825283020807\n",
      "Fold: 2 , fold error:  1.267412551088181\n",
      "Fold: 3 , fold error:  1.177281440586422\n",
      "Fold: 4 , fold error:  0.9611511344582733\n",
      "Val regime error: 1.0920486031448873\n",
      "Realisation error: 1.0920486031448873\n",
      "\n",
      "\n",
      "Run 5 error: 1.0920486031448873\n",
      "\n",
      "\n",
      "--NEW RUN-- 6\n",
      "Realisation: 0\n",
      "spectral_radius 0.6833546848460775\n",
      "input_scaling 0.12726958252506762\n",
      "tikhonov 0.001\n",
      "\n",
      "\n",
      "Val regime: 0\n",
      "Fold: 0 , fold error:  1.026983292359286\n",
      "Fold: 1 , fold error:  0.9858962679850961\n",
      "Fold: 2 , fold error:  0.9666577364478538\n",
      "Fold: 3 , fold error:  1.028565305403822\n",
      "Fold: 4 , fold error:  1.0177099563432195\n",
      "Val regime error: 1.0051625117078555\n",
      "Realisation error: 1.0051625117078555\n",
      "\n",
      "\n",
      "Run 6 error: 1.0051625117078555\n",
      "\n",
      "\n",
      "--NEW RUN-- 7\n",
      "Realisation: 0\n",
      "spectral_radius 0.22631570237138066\n",
      "input_scaling 4.076259041096254\n",
      "tikhonov 1e-08\n",
      "\n",
      "\n"
     ]
    },
    {
     "name": "stderr",
     "output_type": "stream",
     "text": [
      "/home/eo821/miniconda3/envs/cae-esn-tf/lib/python3.9/site-packages/sklearn/linear_model/_ridge.py:216: LinAlgWarning: Ill-conditioned matrix (rcond=2.66718e-17): result may not be accurate.\n",
      "  return linalg.solve(A, Xy, assume_a=\"pos\", overwrite_a=True).T\n"
     ]
    },
    {
     "name": "stdout",
     "output_type": "stream",
     "text": [
      "Val regime: 0\n",
      "Fold: 0 , fold error:  1.1581671045360895\n",
      "Fold: 1 , fold error:  1.0229031516680283\n",
      "Fold: 2 , fold error:  1.0250419450647008\n",
      "Fold: 3 , fold error:  0.9838822760652566\n",
      "Fold: 4 , fold error:  0.9902448280463206\n",
      "Val regime error: 1.0360478610760793\n",
      "Realisation error: 1.0360478610760793\n",
      "\n",
      "\n",
      "Run 7 error: 1.0360478610760793\n",
      "\n",
      "\n",
      "--NEW RUN-- 8\n",
      "Realisation: 0\n",
      "spectral_radius 0.82081967678168\n",
      "input_scaling 0.3642775765463243\n",
      "tikhonov 1e-06\n",
      "\n",
      "\n",
      "Val regime: 0\n",
      "Fold: 0 , fold error:  1.417365480001125\n",
      "Fold: 1 , fold error:  1.1080590148036\n",
      "Fold: 2 , fold error:  1.2529741663947631\n",
      "Fold: 3 , fold error:  1.1359020588187305\n",
      "Fold: 4 , fold error:  1.0772210989504043\n",
      "Val regime error: 1.1983043637937245\n",
      "Realisation error: 1.1983043637937245\n",
      "\n",
      "\n",
      "Run 8 error: 1.1983043637937245\n",
      "\n",
      "\n",
      "--NEW RUN-- 9\n",
      "Realisation: 0\n",
      "spectral_radius 0.7485693892533252\n",
      "input_scaling 0.5572619319129042\n",
      "tikhonov 1e-07\n",
      "\n",
      "\n"
     ]
    },
    {
     "name": "stderr",
     "output_type": "stream",
     "text": [
      "/home/eo821/miniconda3/envs/cae-esn-tf/lib/python3.9/site-packages/sklearn/linear_model/_ridge.py:216: LinAlgWarning: Ill-conditioned matrix (rcond=1.03008e-16): result may not be accurate.\n",
      "  return linalg.solve(A, Xy, assume_a=\"pos\", overwrite_a=True).T\n"
     ]
    },
    {
     "name": "stdout",
     "output_type": "stream",
     "text": [
      "Val regime: 0\n",
      "Fold: 0 , fold error:  1.0892052250349737\n",
      "Fold: 1 , fold error:  0.8241536341834518\n",
      "Fold: 2 , fold error:  1.0954072629311251\n",
      "Fold: 3 , fold error:  1.1083016584074015\n",
      "Fold: 4 , fold error:  1.104782375403359\n",
      "Val regime error: 1.0443700311920623\n",
      "Realisation error: 1.0443700311920623\n",
      "\n",
      "\n",
      "Run 9 error: 1.0443700311920623\n",
      "\n",
      "\n",
      "--NEW RUN-- 10\n",
      "Realisation: 0\n",
      "spectral_radius 0.7827540618901216\n",
      "input_scaling 0.020783697921338138\n",
      "tikhonov 1e-08\n",
      "\n",
      "\n",
      "Val regime: 0\n",
      "Fold: 0 , fold error:  1087.1014089257724\n",
      "Fold: 1 , fold error:  1162.5484545424663\n",
      "Fold: 2 , fold error:  1.107307123612198\n",
      "Fold: 3 , fold error:  1.0441908484549398\n",
      "Fold: 4 , fold error:  0.9111204602706814\n",
      "Val regime error: 450.54249638011527\n",
      "Realisation error: 450.54249638011527\n",
      "\n",
      "\n",
      "Run 10 error: 450.54249638011527\n",
      "\n",
      "\n",
      "--NEW RUN-- 11\n",
      "Realisation: 0\n",
      "spectral_radius 1.0\n",
      "input_scaling 10.0\n",
      "tikhonov 1e-12\n",
      "\n",
      "\n",
      "Val regime: 0\n",
      "Fold: 0 , fold error:  1.233192883813918\n",
      "Fold: 1 , fold error:  1.4622425291779086\n",
      "Fold: 2 , fold error:  1.2251571784981503\n",
      "Fold: 3 , fold error:  1.3214691003667964\n",
      "Fold: 4 , fold error:  1.389166227565941\n",
      "Val regime error: 1.326245583884543\n",
      "Realisation error: 1.326245583884543\n",
      "\n",
      "\n",
      "Run 11 error: 1.326245583884543\n",
      "\n",
      "\n",
      "--NEW RUN-- 12\n",
      "Realisation: 0\n",
      "spectral_radius 0.6846683786367675\n",
      "input_scaling 0.12883641617033334\n",
      "tikhonov 0.001\n",
      "\n",
      "\n",
      "Val regime: 0\n",
      "Fold: 0 , fold error:  0.9429980047098284\n",
      "Fold: 1 , fold error:  1.0186838408299808\n",
      "Fold: 2 , fold error:  1.0267797469822486\n",
      "Fold: 3 , fold error:  1.0024023345642805\n",
      "Fold: 4 , fold error:  0.9256584389057436\n",
      "Val regime error: 0.9833044731984163\n",
      "Realisation error: 0.9833044731984163\n",
      "\n",
      "\n",
      "Run 12 error: 0.9833044731984163\n",
      "\n",
      "\n",
      "--NEW RUN-- 13\n",
      "Realisation: 0\n",
      "spectral_radius 0.4261708702984721\n",
      "input_scaling 3.2435662367111737\n",
      "tikhonov 1e-08\n",
      "\n",
      "\n"
     ]
    },
    {
     "name": "stderr",
     "output_type": "stream",
     "text": [
      "/home/eo821/miniconda3/envs/cae-esn-tf/lib/python3.9/site-packages/sklearn/linear_model/_ridge.py:216: LinAlgWarning: Ill-conditioned matrix (rcond=5.38066e-17): result may not be accurate.\n",
      "  return linalg.solve(A, Xy, assume_a=\"pos\", overwrite_a=True).T\n"
     ]
    },
    {
     "name": "stdout",
     "output_type": "stream",
     "text": [
      "Val regime: 0\n",
      "Fold: 0 , fold error:  1.1205658246037422\n",
      "Fold: 1 , fold error:  1.0609292710384168\n",
      "Fold: 2 , fold error:  1.158356777931837\n",
      "Fold: 3 , fold error:  1.141209027633455\n",
      "Fold: 4 , fold error:  1.0637462778028624\n",
      "Val regime error: 1.1089614358020627\n",
      "Realisation error: 1.1089614358020627\n",
      "\n",
      "\n",
      "Run 13 error: 1.1089614358020627\n",
      "\n",
      "\n",
      "--NEW RUN-- 14\n",
      "Realisation: 0\n",
      "spectral_radius 0.10341259681042397\n",
      "input_scaling 3.043617848709693\n",
      "tikhonov 1e-08\n",
      "\n",
      "\n"
     ]
    },
    {
     "name": "stderr",
     "output_type": "stream",
     "text": [
      "/home/eo821/miniconda3/envs/cae-esn-tf/lib/python3.9/site-packages/sklearn/linear_model/_ridge.py:216: LinAlgWarning: Ill-conditioned matrix (rcond=1.16033e-17): result may not be accurate.\n",
      "  return linalg.solve(A, Xy, assume_a=\"pos\", overwrite_a=True).T\n"
     ]
    },
    {
     "name": "stdout",
     "output_type": "stream",
     "text": [
      "Val regime: 0\n",
      "Fold: 0 , fold error:  1.1769355389054588\n",
      "Fold: 1 , fold error:  1.20577925888503\n",
      "Fold: 2 , fold error:  0.9136629891049789\n",
      "Fold: 3 , fold error:  1.1510315629055823\n",
      "Fold: 4 , fold error:  1.2215807097197928\n",
      "Val regime error: 1.1337980119041684\n",
      "Realisation error: 1.1337980119041684\n",
      "\n",
      "\n",
      "Run 14 error: 1.1337980119041684\n",
      "\n",
      "\n",
      "--NEW RUN-- 15\n",
      "Realisation: 0\n",
      "spectral_radius 0.10913859468537243\n",
      "input_scaling 5.254274101402077\n",
      "tikhonov 1e-08\n",
      "\n",
      "\n"
     ]
    },
    {
     "name": "stderr",
     "output_type": "stream",
     "text": [
      "/home/eo821/miniconda3/envs/cae-esn-tf/lib/python3.9/site-packages/sklearn/linear_model/_ridge.py:216: LinAlgWarning: Ill-conditioned matrix (rcond=1.74918e-17): result may not be accurate.\n",
      "  return linalg.solve(A, Xy, assume_a=\"pos\", overwrite_a=True).T\n"
     ]
    },
    {
     "name": "stdout",
     "output_type": "stream",
     "text": [
      "Val regime: 0\n",
      "Fold: 0 , fold error:  0.9500115164642028\n",
      "Fold: 1 , fold error:  0.9960631395959824\n",
      "Fold: 2 , fold error:  0.9241574168405803\n",
      "Fold: 3 , fold error:  1.0749396149002244\n",
      "Fold: 4 , fold error:  1.1284787350763288\n",
      "Val regime error: 1.0147300845754637\n",
      "Realisation error: 1.0147300845754637\n",
      "\n",
      "\n",
      "Run 15 error: 1.0147300845754637\n",
      "\n",
      "\n",
      "--NEW RUN-- 16\n",
      "Realisation: 0\n",
      "spectral_radius 0.6956814774602812\n",
      "input_scaling 0.14275035129718425\n",
      "tikhonov 0.001\n",
      "\n",
      "\n",
      "Val regime: 0\n",
      "Fold: 0 , fold error:  0.930037713879147\n",
      "Fold: 1 , fold error:  0.9891616778877992\n",
      "Fold: 2 , fold error:  1.035301633490368\n",
      "Fold: 3 , fold error:  0.9851740375423688\n",
      "Fold: 4 , fold error:  0.956316417038787\n",
      "Val regime error: 0.9791982959676939\n",
      "Realisation error: 0.9791982959676939\n",
      "\n",
      "\n",
      "Run 16 error: 0.9791982959676939\n",
      "\n",
      "\n",
      "--NEW RUN-- 17\n",
      "Realisation: 0\n",
      "spectral_radius 0.7350008465321488\n",
      "input_scaling 1.1160631986323566\n",
      "tikhonov 9.999999999999999e-10\n",
      "\n",
      "\n"
     ]
    },
    {
     "name": "stderr",
     "output_type": "stream",
     "text": [
      "/home/eo821/miniconda3/envs/cae-esn-tf/lib/python3.9/site-packages/sklearn/linear_model/_ridge.py:216: LinAlgWarning: Ill-conditioned matrix (rcond=5.56033e-18): result may not be accurate.\n",
      "  return linalg.solve(A, Xy, assume_a=\"pos\", overwrite_a=True).T\n"
     ]
    },
    {
     "name": "stdout",
     "output_type": "stream",
     "text": [
      "Val regime: 0\n",
      "Fold: 0 , fold error:  0.9286983807569099\n",
      "Fold: 1 , fold error:  1.180748776220858\n",
      "Fold: 2 , fold error:  1.065376236969283\n",
      "Fold: 3 , fold error:  1.2355375671625437\n",
      "Fold: 4 , fold error:  1.414473936309729\n",
      "Val regime error: 1.1649669794838649\n",
      "Realisation error: 1.1649669794838649\n",
      "\n",
      "\n",
      "Run 17 error: 1.1649669794838649\n",
      "\n",
      "\n",
      "--NEW RUN-- 18\n",
      "Realisation: 0\n",
      "spectral_radius 0.8998780062567542\n",
      "input_scaling 0.6641015824831641\n",
      "tikhonov 9.999999999999999e-10\n",
      "\n",
      "\n"
     ]
    },
    {
     "name": "stderr",
     "output_type": "stream",
     "text": [
      "/home/eo821/miniconda3/envs/cae-esn-tf/lib/python3.9/site-packages/sklearn/linear_model/_ridge.py:216: LinAlgWarning: Ill-conditioned matrix (rcond=4.44006e-17): result may not be accurate.\n",
      "  return linalg.solve(A, Xy, assume_a=\"pos\", overwrite_a=True).T\n"
     ]
    },
    {
     "name": "stdout",
     "output_type": "stream",
     "text": [
      "Val regime: 0\n",
      "Fold: 0 , fold error:  1.120114817870015\n",
      "Fold: 1 , fold error:  1.1200627302009807\n",
      "Fold: 2 , fold error:  1.005083397240059\n",
      "Fold: 3 , fold error:  1.028707665728219\n",
      "Fold: 4 , fold error:  0.9455504389614118\n",
      "Val regime error: 1.0439038100001372\n",
      "Realisation error: 1.0439038100001372\n",
      "\n",
      "\n",
      "Run 18 error: 1.0439038100001372\n",
      "\n",
      "\n",
      "--NEW RUN-- 19\n",
      "Realisation: 0\n",
      "spectral_radius 0.27912825371713645\n",
      "input_scaling 5.511181698153896\n",
      "tikhonov 9.999999999999999e-10\n",
      "\n",
      "\n",
      "Val regime: 0\n",
      "Fold: 0 , fold error:  1.22832101096328\n",
      "Fold: 1 , fold error:  0.9909090594729965\n",
      "Fold: 2 , fold error:  1.1010119787751427\n",
      "Fold: 3 , fold error:  1.1837100669962057\n",
      "Fold: 4 , fold error:  1.255358491874712\n",
      "Val regime error: 1.1518621216164673\n",
      "Realisation error: 1.1518621216164673\n",
      "\n",
      "\n",
      "Run 19 error: 1.1518621216164673\n",
      "\n",
      "\n",
      "--NEW RUN-- 20\n",
      "Realisation: 0\n",
      "spectral_radius 0.9212748428744022\n",
      "input_scaling 0.797958067103133\n",
      "tikhonov 9.999999999999999e-10\n",
      "\n",
      "\n"
     ]
    },
    {
     "name": "stderr",
     "output_type": "stream",
     "text": [
      "/home/eo821/miniconda3/envs/cae-esn-tf/lib/python3.9/site-packages/sklearn/linear_model/_ridge.py:216: LinAlgWarning: Ill-conditioned matrix (rcond=9.73406e-17): result may not be accurate.\n",
      "  return linalg.solve(A, Xy, assume_a=\"pos\", overwrite_a=True).T\n"
     ]
    },
    {
     "name": "stdout",
     "output_type": "stream",
     "text": [
      "Val regime: 0\n",
      "Fold: 0 , fold error:  0.9830006265615074\n",
      "Fold: 1 , fold error:  0.9933519204651965\n",
      "Fold: 2 , fold error:  1.1842804680629688\n",
      "Fold: 3 , fold error:  0.9303535828711958\n",
      "Fold: 4 , fold error:  0.8918196534940073\n",
      "Val regime error: 0.9965612502909751\n",
      "Realisation error: 0.9965612502909751\n",
      "\n",
      "\n",
      "Run 20 error: 0.9965612502909751\n",
      "\n",
      "\n",
      "{'f': array([0.94888783, 0.9791983 , 0.98330447, 0.99656125, 1.00516251]), 'spectral_radius': array([0.86252656, 0.69568148, 0.68466838, 0.92127484, 0.68335468]), 'input_scaling': array([0.74249082, 0.14275035, 0.12883642, 0.79795807, 0.12726958]), 'tikhonov': array([1.e-09, 1.e-03, 1.e-03, 1.e-09, 1.e-03])}\n"
     ]
    }
   ],
   "source": [
    "#  specify which hyperparameters to search, e.g., spectral_radius, input_scaling, leak_factor\n",
    "hyperparameter_dict = {\n",
    "    'spectral_radius': [0.1, 1.0, 'uniform'],\n",
    "    'input_scaling': [0.01, 10.0, 'log10'],\n",
    "    'tikhonov': [1e-12, 1e-3, 'log10'],\n",
    "    # 'leak_factor': [0.1, 1.0, 'uniform']  # Uncomment if needed\n",
    "}\n",
    "grid_range = []\n",
    "for i, parameter in enumerate(hyperparameter_dict.keys()):\n",
    "    scaler = getattr(scalers, hyperparameter_dict[parameter][-1])\n",
    "    grid_range.append(scaler(hyperparameter_dict[parameter][:2]))\n",
    "\n",
    "# compute normalization factor (range component-wise)\n",
    "U_data = U_esn[:N_washout+train_size, :dim].copy()\n",
    "m = U_data.min(axis=0)\n",
    "M = U_data.max(axis=0)\n",
    "norm = M-m\n",
    "u_mean = U_data.mean(axis=0)\n",
    "\n",
    "N_val = 1000  # number of validation steps\n",
    "\n",
    "# fixed properties of the ESN\n",
    "ESN_dict = {'reservoir_size': 5000,\n",
    "        'dimension': dim,\n",
    "        'reservoir_connectivity': 10,\n",
    "        # np.array([np.mean(np.abs((U_data-u_mean)/norm))]),\n",
    "        'input_bias': np.array([1]),\n",
    "        # np.array([np.mean(np.abs((U_data-u_mean)/norm))]*2),\n",
    "        'output_bias':  np.array([1]),\n",
    "        'reservoir_weights_mode': \"erdos_renyi1\",\n",
    "        # 'tikhonov': 1e-10,\n",
    "        'input_normalization': [u_mean, norm],\n",
    "        # 'input_weights_mode': 'dense',\n",
    "        'input_seeds':[0, 1, 2],\n",
    "        'reservoir_seeds':[3, 4]\n",
    "    }\n",
    "\n",
    "\n",
    "min_dict = validate(\n",
    "    grid_range=grid_range,\n",
    "    param_names=[key for key in hyperparameter_dict.keys()],\n",
    "    param_scales=[values[-1] for values in hyperparameter_dict.values()],\n",
    "    n_calls=20,  # number of total trials\n",
    "    n_initial_points=10,  # number of initial trials before bayesian optimization\n",
    "    ESN_dict=ESN_dict,\n",
    "    U_washout_train=U_washout,\n",
    "    n_realisations=1,  # number of random ESN realisations\n",
    "    U_train=U_train_input,\n",
    "    Y_train=U_train_label,\n",
    "    U_val=U_val_input,\n",
    "    Y_val=U_val_label,\n",
    "    n_folds=5,  # number of folds, i.e., validation time series that start from random time instances\n",
    "    N_washout_steps=N_washout,\n",
    "    N_val_steps=N_val,\n",
    "    random_seed=10,  # random seed for the bayesian optimization\n",
    "    error_measure=errors.rel_L2)  # error measure to optimize over\n",
    "\n",
    "esn_loaded_dict = dict(min_dict, **ESN_dict)"
   ]
  },
  {
   "cell_type": "code",
   "execution_count": 41,
   "metadata": {},
   "outputs": [],
   "source": [
    "with open(model_path / 'esn_best_dict.pkl', 'wb') as f:\n",
    "    pickle.dump(esn_loaded_dict, f)\n"
   ]
  },
  {
   "cell_type": "markdown",
   "metadata": {},
   "source": [
    "#### 4: Select the best ESN hyperparameters\n",
    "We provide hyperparameters from the ESN that we validated. "
   ]
  },
  {
   "cell_type": "code",
   "execution_count": 34,
   "metadata": {},
   "outputs": [
    {
     "name": "stdout",
     "output_type": "stream",
     "text": [
      "Dictionary loaded in {'f': array([0.94888783, 0.9791983 , 0.98330447, 0.99656125, 1.00516251]), 'spectral_radius': array([0.86252656, 0.69568148, 0.68466838, 0.92127484, 0.68335468]), 'input_scaling': array([0.74249082, 0.14275035, 0.12883642, 0.79795807, 0.12726958]), 'tikhonov': array([1.e-09, 1.e-03, 1.e-03, 1.e-09, 1.e-03]), 'reservoir_size': 5000, 'dimension': 8, 'reservoir_connectivity': 10, 'input_bias': array([1]), 'output_bias': array([1]), 'reservoir_weights_mode': 'erdos_renyi1', 'input_normalization': [array([-0.00593858, -0.04789577,  0.01191856,  0.03158609, -0.03616858,\n",
      "        0.04105314, -0.00360776,  0.01144325]), array([1.11553235, 1.08183018, 1.10016882, 1.06189767, 1.08552729,\n",
      "       1.07920115, 1.16133172, 1.06537837])], 'input_seeds': [0, 1, 2], 'reservoir_seeds': [3, 4]}\n"
     ]
    },
    {
     "name": "stderr",
     "output_type": "stream",
     "text": [
      "/home/eo821/miniconda3/envs/cae-esn-tf/lib/python3.9/site-packages/sklearn/linear_model/_ridge.py:216: LinAlgWarning: Ill-conditioned matrix (rcond=1.90761e-17): result may not be accurate.\n",
      "  return linalg.solve(A, Xy, assume_a=\"pos\", overwrite_a=True).T\n"
     ]
    }
   ],
   "source": [
    "# with open(cae_path / 'esn_best_dict.pkl', 'rb') as f:\n",
    "#     esn_loaded_dict = pickle.load(f)\n",
    "\n",
    "print(f\"Dictionary loaded in {esn_loaded_dict}\")\n",
    "i=0\n",
    "my_ESN = ESN(reservoir_size=esn_loaded_dict[\"reservoir_size\"],\n",
    "                dimension=esn_loaded_dict[\"dimension\"],\n",
    "                reservoir_connectivity=esn_loaded_dict[\"reservoir_connectivity\"],\n",
    "                spectral_radius=esn_loaded_dict['spectral_radius'][i],\n",
    "                input_scaling=esn_loaded_dict['input_scaling'][i],\n",
    "                tikhonov=esn_loaded_dict['tikhonov'][i],\n",
    "                input_bias=esn_loaded_dict[\"input_bias\"],\n",
    "                output_bias=esn_loaded_dict[\"output_bias\"],\n",
    "                reservoir_weights_mode=esn_loaded_dict['reservoir_weights_mode'],\n",
    "                input_normalization=esn_loaded_dict['input_normalization'],\n",
    "                # input_weights_mode=esn_loaded_dict['input_weights_mode'],\n",
    "                #   leak_factor =min_dict['leak_factor'][i],\n",
    "                input_seeds=esn_loaded_dict[\"input_seeds\"],\n",
    "                reservoir_seeds=esn_loaded_dict[\"reservoir_seeds\"], verbose=False)\n",
    "my_ESN.train(U_washout, U_train_input, U_train_label)"
   ]
  },
  {
   "cell_type": "markdown",
   "metadata": {},
   "source": [
    "#### 5: CAE-ESN prediction on the test data"
   ]
  },
  {
   "cell_type": "code",
   "execution_count": 35,
   "metadata": {},
   "outputs": [],
   "source": [
    "cae_model = CAE(8)\n",
    "cae_model.load_state_dict(torch.load(model_path/\"best_model.pth\", map_location=device))\n",
    "cae_model = cae_model.to(device)"
   ]
  },
  {
   "cell_type": "code",
   "execution_count": 39,
   "metadata": {},
   "outputs": [
    {
     "data": {
      "image/png": "[encoded data removed]",
      "text/plain": [
       "<Figure size 500x300 with 6 Axes>"
      ]
     },
     "metadata": {},
     "output_type": "display_data"
    }
   ],
   "source": [
    "\n",
    "# Define constants\n",
    "N_lyap = int(1/ks_data[\"lyap\"]/((ks_data[\"dt\"])*ks_data[\"upsample\"]))\n",
    "N_plot = 7*N_lyap\n",
    "fs = 14\n",
    "cmap = 'RdBu_r'\n",
    "\n",
    "# Calculate domain length\n",
    "domain_length = 20 * np.pi\n",
    "\n",
    "# Create subplots\n",
    "fig, axs = plt.subplots(nrows=1, ncols=3, figsize=(5,3), sharey=True)  # Changed ncols to 1\n",
    "\n",
    "N_start = 200 \n",
    "reservoir, prediction = my_ESN.closed_loop_with_washout(u_encoded_test[N_start:N_start+N_washout, :dim], N_plot)\n",
    "snapshot_decoded = cae_model.decoder(torch.from_numpy(prediction).float().to(device)).numpy(force=True)\n",
    "snapshot = cae_model.decoder(torch.from_numpy( u_encoded_test[N_start+N_washout:N_start+N_washout+N_plot, :dim]).float().to(device)).numpy(force=True)\n",
    "\n",
    "\n",
    "# Extract data\n",
    "data1 = snapshot[:N_plot, 0, :] \n",
    "data2 = snapshot_decoded[:N_plot, 0, :] \n",
    "data3 = data1 - data2\n",
    "\n",
    "lyapunov_time = ks_data[\"lyap\"] * np.arange(0, 10000, (((ks_data[\"dt\"])*ks_data[\"upsample\"])))\n",
    "# Adjust subplot spacing\n",
    "plt.subplots_adjust(wspace=-0.05)  #\n",
    "# Plot data\n",
    "for i, data in enumerate([data1, data2, data3]):\n",
    "    axes = axs[i]\n",
    "    im = axes.imshow(data, aspect='auto', cmap=cmap,\n",
    "                     extent=[0, 2 * 4 * np.pi, int(lyapunov_time[N_plot]), lyapunov_time[0]])\n",
    "\n",
    "\n",
    "    axes.set_xlabel('x', fontsize=fs, rotation=0, labelpad=0, y=0.46)\n",
    "     # Set y-tick labels and font size\n",
    "    axes.set_yticks(axes.get_yticks())  # Ensure yticks are set first\n",
    "    axes.set_yticklabels([f'{int(tick)}' for tick in axes.get_yticks()], fontsize=fs)\n",
    "\n",
    "    axes.yaxis.tick_left()\n",
    "    axes.set_xticks(np.arange(0, 8 * np.pi + 0.01, step=(1 * 4 * np.pi)), ['0', r'$4\\pi$', r'8$\\pi$'],\n",
    "                    fontsize=fs)\n",
    "    for tick_label in axes.get_xticklabels():\n",
    "        tick_label.set_ha('center')\n",
    "        tick_label.set_x(-0.05)\n",
    "\n",
    "    cbar = fig.colorbar(im, ax=axes)\n",
    "    cbar.ax.tick_params(labelsize=fs)\n",
    "\n",
    "axs[0].set_ylabel(r'$\\tau_{\\lambda}$', fontsize=fs)\n",
    "axs[0].set_title(\"Reference\")\n",
    "axs[1].set_title(\"CAE\")\n",
    "axs[2].set_title(\"Error\")\n",
    "# Show or save plot\n",
    "plt.tight_layout()\n",
    "# plt.savefig(\"../images/cae-esn.png\", dpi=100)\n"
   ]
  }
 ],
 "metadata": {
  "kernelspec": {
   "display_name": "cae-esn-tf",
   "language": "python",
   "name": "python3"
  },
  "language_info": {
   "codemirror_mode": {
    "name": "ipython",
    "version": 3
   },
   "file_extension": ".py",
   "mimetype": "text/x-python",
   "name": "python",
   "nbconvert_exporter": "python",
   "pygments_lexer": "ipython3",
   "version": "3.9.17"
  }
 },
 "nbformat": 4,
 "nbformat_minor": 2
}
